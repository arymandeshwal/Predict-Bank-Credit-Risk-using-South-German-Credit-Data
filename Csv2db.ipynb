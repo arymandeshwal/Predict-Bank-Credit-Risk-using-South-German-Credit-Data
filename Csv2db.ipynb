{
 "cells": [
  {
   "cell_type": "code",
   "execution_count": 1,
   "id": "341e5651",
   "metadata": {},
   "outputs": [],
   "source": [
    "import sqlite3\n",
    "import pandas as pd"
   ]
  },
  {
   "cell_type": "code",
   "execution_count": 2,
   "id": "e681171f",
   "metadata": {},
   "outputs": [],
   "source": [
    "conn = sqlite3.connect(\"German_credit.db\")\n",
    "cursor = conn.cursor() "
   ]
  },
  {
   "cell_type": "code",
   "execution_count": 3,
   "id": "cd6ce0e2",
   "metadata": {},
   "outputs": [],
   "source": [
    "cursor.execute('''CREATE TABLE IF NOT EXISTS credit\n",
    "                (ID INTEGER PRIMARY KEY AUTOINCREMENT,\n",
    "                status INTEGER NOT NULL,\n",
    "                duration INTEGER NOT NULL,\n",
    "                credit_history INTEGER NOT NULL,\n",
    "                purpose INTEGER NOT NULL,\n",
    "                amount INTEGER NOT NULL,\n",
    "                savings INTEGER NOT NULL,\n",
    "                employment_duration INTEGER NOT NULL,\n",
    "                installment_rate INTEGER NOT NULL,\n",
    "                personal_status_sex INTEGER NOT NULL,\n",
    "                other_debtors INTEGER NOT NULL,\n",
    "                present_residence INTEGER NOT NULL,\n",
    "                property INTEGER NOT NULL,\n",
    "                age INTEGER NOT NULL,\n",
    "                other_installment_plans INTEGER NOT NULL,\n",
    "                housing INTEGER NOT NULL,\n",
    "                number_credits INTEGER NOT NULL,\n",
    "                job INTEGER NOT NULL,\n",
    "                people_liable INTEGER NOT NULL,\n",
    "                telephone INTEGER NOT NULL,\n",
    "                foreign_worker INTEGER NOT NULL,\n",
    "                credit_risk INTEGER NOT NULL);''')\n",
    "conn.commit()"
   ]
  },
  {
   "cell_type": "code",
   "execution_count": 4,
   "id": "e167b54b",
   "metadata": {},
   "outputs": [
    {
     "data": {
      "text/plain": [
       "(1000, 21)"
      ]
     },
     "execution_count": 4,
     "metadata": {},
     "output_type": "execute_result"
    }
   ],
   "source": [
    "df = pd.read_csv(\"South_German_Credit_formatted.csv\")\n",
    "df.shape"
   ]
  },
  {
   "cell_type": "code",
   "execution_count": 5,
   "id": "57da2a23",
   "metadata": {},
   "outputs": [],
   "source": [
    "for row in df.itertuples():\n",
    "    cursor.execute('''\n",
    "                    INSERT INTO credit\n",
    "                    (status,duration,credit_history,purpose,amount,savings,employment_duration,installment_rate,personal_status_sex,other_debtors,present_residence,property,age,other_installment_plans,housing,number_credits,job,people_liable,telephone,foreign_worker,credit_risk)\n",
    "                    VALUES (?,?,?,?,?,?,?,?,?,?,?,?,?,?,?,?,?,?,?,?,?)''',(\n",
    "                    row.status,\n",
    "                    row.duration,\n",
    "                    row.credit_history,\n",
    "                    row.purpose,\n",
    "                    row.amount,\n",
    "                    row.savings,\n",
    "                    row.employment_duration,\n",
    "                    row.installment_rate,\n",
    "                    row.personal_status_sex,\n",
    "                    row.other_debtors,\n",
    "                    row.present_residence,\n",
    "                    row.property,\n",
    "                    row.age,\n",
    "                    row.other_installment_plans,\n",
    "                    row.housing,\n",
    "                    row.number_credits,\n",
    "                    row.job,\n",
    "                    row.people_liable,\n",
    "                    row.telephone,\n",
    "                    row.foreign_worker,\n",
    "                    row.credit_risk) )\n",
    "conn.commit()"
   ]
  },
  {
   "cell_type": "code",
   "execution_count": null,
   "id": "e37325ef",
   "metadata": {},
   "outputs": [],
   "source": []
  }
 ],
 "metadata": {
  "kernelspec": {
   "display_name": "Python 3 (ipykernel)",
   "language": "python",
   "name": "python3"
  },
  "language_info": {
   "codemirror_mode": {
    "name": "ipython",
    "version": 3
   },
   "file_extension": ".py",
   "mimetype": "text/x-python",
   "name": "python",
   "nbconvert_exporter": "python",
   "pygments_lexer": "ipython3",
   "version": "3.9.6"
  }
 },
 "nbformat": 4,
 "nbformat_minor": 5
}
