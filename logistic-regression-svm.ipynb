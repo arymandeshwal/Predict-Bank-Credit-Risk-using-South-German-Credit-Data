{
 "cells": [
  {
   "cell_type": "code",
   "execution_count": 1,
   "metadata": {
    "_cell_guid": "79c7e3d0-c299-4dcb-8224-4455121ee9b0",
    "_uuid": "d629ff2d2480ee46fbb7e2d37f6b5fab8052498a",
    "execution": {
     "iopub.execute_input": "2020-10-14T09:53:58.322092Z",
     "iopub.status.busy": "2020-10-14T09:53:58.320968Z",
     "iopub.status.idle": "2020-10-14T09:53:58.324509Z",
     "shell.execute_reply": "2020-10-14T09:53:58.323723Z"
    },
    "papermill": {
     "duration": 0.041221,
     "end_time": "2020-10-14T09:53:58.324648",
     "exception": false,
     "start_time": "2020-10-14T09:53:58.283427",
     "status": "completed"
    },
    "tags": []
   },
   "outputs": [],
   "source": [
    "#import basic libraries\n",
    "import numpy as np\n",
    "import pandas as pd\n",
    "import matplotlib.pyplot as plt\n",
    "\n",
    "%matplotlib inline"
   ]
  },
  {
   "cell_type": "code",
   "execution_count": 2,
   "metadata": {
    "execution": {
     "iopub.execute_input": "2020-10-14T09:53:58.389595Z",
     "iopub.status.busy": "2020-10-14T09:53:58.388790Z",
     "iopub.status.idle": "2020-10-14T09:53:58.454045Z",
     "shell.execute_reply": "2020-10-14T09:53:58.454639Z"
    },
    "papermill": {
     "duration": 0.101175,
     "end_time": "2020-10-14T09:53:58.454787",
     "exception": false,
     "start_time": "2020-10-14T09:53:58.353612",
     "status": "completed"
    },
    "tags": []
   },
   "outputs": [
    {
     "data": {
      "text/html": [
       "<div>\n",
       "<style scoped>\n",
       "    .dataframe tbody tr th:only-of-type {\n",
       "        vertical-align: middle;\n",
       "    }\n",
       "\n",
       "    .dataframe tbody tr th {\n",
       "        vertical-align: top;\n",
       "    }\n",
       "\n",
       "    .dataframe thead th {\n",
       "        text-align: right;\n",
       "    }\n",
       "</style>\n",
       "<table border=\"1\" class=\"dataframe\">\n",
       "  <thead>\n",
       "    <tr style=\"text-align: right;\">\n",
       "      <th></th>\n",
       "      <th>status</th>\n",
       "      <th>duration</th>\n",
       "      <th>credit_history</th>\n",
       "      <th>purpose</th>\n",
       "      <th>amount</th>\n",
       "      <th>savings</th>\n",
       "      <th>employment_duration</th>\n",
       "      <th>installment_rate</th>\n",
       "      <th>personal_status_sex</th>\n",
       "      <th>other_debtors</th>\n",
       "      <th>...</th>\n",
       "      <th>property</th>\n",
       "      <th>age</th>\n",
       "      <th>other_installment_plans</th>\n",
       "      <th>housing</th>\n",
       "      <th>number_credits</th>\n",
       "      <th>job</th>\n",
       "      <th>people_liable</th>\n",
       "      <th>telephone</th>\n",
       "      <th>foreign_worker</th>\n",
       "      <th>credit_risk</th>\n",
       "    </tr>\n",
       "  </thead>\n",
       "  <tbody>\n",
       "    <tr>\n",
       "      <th>0</th>\n",
       "      <td>1</td>\n",
       "      <td>18</td>\n",
       "      <td>4</td>\n",
       "      <td>2</td>\n",
       "      <td>1049</td>\n",
       "      <td>1</td>\n",
       "      <td>2</td>\n",
       "      <td>4</td>\n",
       "      <td>2</td>\n",
       "      <td>1</td>\n",
       "      <td>...</td>\n",
       "      <td>2</td>\n",
       "      <td>21</td>\n",
       "      <td>3</td>\n",
       "      <td>1</td>\n",
       "      <td>1</td>\n",
       "      <td>3</td>\n",
       "      <td>2</td>\n",
       "      <td>1</td>\n",
       "      <td>2</td>\n",
       "      <td>1</td>\n",
       "    </tr>\n",
       "    <tr>\n",
       "      <th>1</th>\n",
       "      <td>1</td>\n",
       "      <td>9</td>\n",
       "      <td>4</td>\n",
       "      <td>0</td>\n",
       "      <td>2799</td>\n",
       "      <td>1</td>\n",
       "      <td>3</td>\n",
       "      <td>2</td>\n",
       "      <td>3</td>\n",
       "      <td>1</td>\n",
       "      <td>...</td>\n",
       "      <td>1</td>\n",
       "      <td>36</td>\n",
       "      <td>3</td>\n",
       "      <td>1</td>\n",
       "      <td>2</td>\n",
       "      <td>3</td>\n",
       "      <td>1</td>\n",
       "      <td>1</td>\n",
       "      <td>2</td>\n",
       "      <td>1</td>\n",
       "    </tr>\n",
       "    <tr>\n",
       "      <th>2</th>\n",
       "      <td>2</td>\n",
       "      <td>12</td>\n",
       "      <td>2</td>\n",
       "      <td>9</td>\n",
       "      <td>841</td>\n",
       "      <td>2</td>\n",
       "      <td>4</td>\n",
       "      <td>2</td>\n",
       "      <td>2</td>\n",
       "      <td>1</td>\n",
       "      <td>...</td>\n",
       "      <td>1</td>\n",
       "      <td>23</td>\n",
       "      <td>3</td>\n",
       "      <td>1</td>\n",
       "      <td>1</td>\n",
       "      <td>2</td>\n",
       "      <td>2</td>\n",
       "      <td>1</td>\n",
       "      <td>2</td>\n",
       "      <td>1</td>\n",
       "    </tr>\n",
       "    <tr>\n",
       "      <th>3</th>\n",
       "      <td>1</td>\n",
       "      <td>12</td>\n",
       "      <td>4</td>\n",
       "      <td>0</td>\n",
       "      <td>2122</td>\n",
       "      <td>1</td>\n",
       "      <td>3</td>\n",
       "      <td>3</td>\n",
       "      <td>3</td>\n",
       "      <td>1</td>\n",
       "      <td>...</td>\n",
       "      <td>1</td>\n",
       "      <td>39</td>\n",
       "      <td>3</td>\n",
       "      <td>1</td>\n",
       "      <td>2</td>\n",
       "      <td>2</td>\n",
       "      <td>1</td>\n",
       "      <td>1</td>\n",
       "      <td>1</td>\n",
       "      <td>1</td>\n",
       "    </tr>\n",
       "    <tr>\n",
       "      <th>4</th>\n",
       "      <td>1</td>\n",
       "      <td>12</td>\n",
       "      <td>4</td>\n",
       "      <td>0</td>\n",
       "      <td>2171</td>\n",
       "      <td>1</td>\n",
       "      <td>3</td>\n",
       "      <td>4</td>\n",
       "      <td>3</td>\n",
       "      <td>1</td>\n",
       "      <td>...</td>\n",
       "      <td>2</td>\n",
       "      <td>38</td>\n",
       "      <td>1</td>\n",
       "      <td>2</td>\n",
       "      <td>2</td>\n",
       "      <td>2</td>\n",
       "      <td>2</td>\n",
       "      <td>1</td>\n",
       "      <td>1</td>\n",
       "      <td>1</td>\n",
       "    </tr>\n",
       "  </tbody>\n",
       "</table>\n",
       "<p>5 rows × 21 columns</p>\n",
       "</div>"
      ],
      "text/plain": [
       "   status  duration  credit_history  purpose  amount  savings  \\\n",
       "0       1        18               4        2    1049        1   \n",
       "1       1         9               4        0    2799        1   \n",
       "2       2        12               2        9     841        2   \n",
       "3       1        12               4        0    2122        1   \n",
       "4       1        12               4        0    2171        1   \n",
       "\n",
       "   employment_duration  installment_rate  personal_status_sex  other_debtors  \\\n",
       "0                    2                 4                    2              1   \n",
       "1                    3                 2                    3              1   \n",
       "2                    4                 2                    2              1   \n",
       "3                    3                 3                    3              1   \n",
       "4                    3                 4                    3              1   \n",
       "\n",
       "   ...  property  age  other_installment_plans  housing  number_credits  job  \\\n",
       "0  ...         2   21                        3        1               1    3   \n",
       "1  ...         1   36                        3        1               2    3   \n",
       "2  ...         1   23                        3        1               1    2   \n",
       "3  ...         1   39                        3        1               2    2   \n",
       "4  ...         2   38                        1        2               2    2   \n",
       "\n",
       "   people_liable  telephone  foreign_worker  credit_risk  \n",
       "0              2          1               2            1  \n",
       "1              1          1               2            1  \n",
       "2              2          1               2            1  \n",
       "3              1          1               1            1  \n",
       "4              2          1               1            1  \n",
       "\n",
       "[5 rows x 21 columns]"
      ]
     },
     "execution_count": 2,
     "metadata": {},
     "output_type": "execute_result"
    }
   ],
   "source": [
    "#read the file\n",
    "df = pd.read_csv(\"South_German_Credit_formatted.csv\")\n",
    "df.head()"
   ]
  },
  {
   "cell_type": "code",
   "execution_count": 3,
   "metadata": {
    "execution": {
     "iopub.execute_input": "2020-10-14T09:53:58.518274Z",
     "iopub.status.busy": "2020-10-14T09:53:58.517505Z",
     "iopub.status.idle": "2020-10-14T09:53:58.522244Z",
     "shell.execute_reply": "2020-10-14T09:53:58.521531Z"
    },
    "papermill": {
     "duration": 0.037649,
     "end_time": "2020-10-14T09:53:58.522364",
     "exception": false,
     "start_time": "2020-10-14T09:53:58.484715",
     "status": "completed"
    },
    "tags": []
   },
   "outputs": [
    {
     "data": {
      "text/plain": [
       "(1000, 21)"
      ]
     },
     "execution_count": 3,
     "metadata": {},
     "output_type": "execute_result"
    }
   ],
   "source": [
    "#check dataset's size\n",
    "df.shape"
   ]
  },
  {
   "cell_type": "code",
   "execution_count": 4,
   "metadata": {
    "execution": {
     "iopub.execute_input": "2020-10-14T09:53:58.588867Z",
     "iopub.status.busy": "2020-10-14T09:53:58.588019Z",
     "iopub.status.idle": "2020-10-14T09:53:58.592311Z",
     "shell.execute_reply": "2020-10-14T09:53:58.591657Z"
    },
    "papermill": {
     "duration": 0.041549,
     "end_time": "2020-10-14T09:53:58.592436",
     "exception": false,
     "start_time": "2020-10-14T09:53:58.550887",
     "status": "completed"
    },
    "tags": []
   },
   "outputs": [
    {
     "data": {
      "text/plain": [
       "1    700\n",
       "0    300\n",
       "Name: credit_risk, dtype: int64"
      ]
     },
     "execution_count": 4,
     "metadata": {},
     "output_type": "execute_result"
    }
   ],
   "source": [
    "df[\"credit_risk\"].value_counts()"
   ]
  },
  {
   "cell_type": "markdown",
   "metadata": {
    "papermill": {
     "duration": 0.028632,
     "end_time": "2020-10-14T09:53:58.650220",
     "exception": false,
     "start_time": "2020-10-14T09:53:58.621588",
     "status": "completed"
    },
    "tags": []
   },
   "source": [
    "Dataset is imbalanced due to that it has more \"good\" values (for credit_risk column) than \"bad\" values. This imbalance may cause us to make weak predictions."
   ]
  },
  {
   "cell_type": "markdown",
   "metadata": {
    "papermill": {
     "duration": 0.029321,
     "end_time": "2020-10-14T09:53:58.708646",
     "exception": false,
     "start_time": "2020-10-14T09:53:58.679325",
     "status": "completed"
    },
    "tags": []
   },
   "source": [
    "## Data Cleaning and Preparation"
   ]
  },
  {
   "cell_type": "code",
   "execution_count": 5,
   "metadata": {
    "execution": {
     "iopub.execute_input": "2020-10-14T09:53:58.773674Z",
     "iopub.status.busy": "2020-10-14T09:53:58.772867Z",
     "iopub.status.idle": "2020-10-14T09:53:58.788288Z",
     "shell.execute_reply": "2020-10-14T09:53:58.787523Z"
    },
    "papermill": {
     "duration": 0.050652,
     "end_time": "2020-10-14T09:53:58.788426",
     "exception": false,
     "start_time": "2020-10-14T09:53:58.737774",
     "status": "completed"
    },
    "tags": []
   },
   "outputs": [
    {
     "data": {
      "text/plain": [
       "False    1000\n",
       "dtype: int64"
      ]
     },
     "execution_count": 5,
     "metadata": {},
     "output_type": "execute_result"
    }
   ],
   "source": [
    "#Is there any duplicate value in the dataset?\n",
    "df.duplicated().value_counts()"
   ]
  },
  {
   "cell_type": "markdown",
   "metadata": {
    "papermill": {
     "duration": 0.030291,
     "end_time": "2020-10-14T09:53:58.848616",
     "exception": false,
     "start_time": "2020-10-14T09:53:58.818325",
     "status": "completed"
    },
    "tags": []
   },
   "source": [
    "There is not any duplicate value in the dataset."
   ]
  },
  {
   "cell_type": "code",
   "execution_count": 6,
   "metadata": {
    "execution": {
     "iopub.execute_input": "2020-10-14T09:53:58.922438Z",
     "iopub.status.busy": "2020-10-14T09:53:58.920019Z",
     "iopub.status.idle": "2020-10-14T09:53:58.927722Z",
     "shell.execute_reply": "2020-10-14T09:53:58.926979Z"
    },
    "papermill": {
     "duration": 0.045954,
     "end_time": "2020-10-14T09:53:58.927846",
     "exception": false,
     "start_time": "2020-10-14T09:53:58.881892",
     "status": "completed"
    },
    "tags": []
   },
   "outputs": [
    {
     "data": {
      "text/plain": [
       "status                     0\n",
       "duration                   0\n",
       "credit_history             0\n",
       "purpose                    0\n",
       "amount                     0\n",
       "savings                    0\n",
       "employment_duration        0\n",
       "installment_rate           0\n",
       "personal_status_sex        0\n",
       "other_debtors              0\n",
       "present_residence          0\n",
       "property                   0\n",
       "age                        0\n",
       "other_installment_plans    0\n",
       "housing                    0\n",
       "number_credits             0\n",
       "job                        0\n",
       "people_liable              0\n",
       "telephone                  0\n",
       "foreign_worker             0\n",
       "credit_risk                0\n",
       "dtype: int64"
      ]
     },
     "execution_count": 6,
     "metadata": {},
     "output_type": "execute_result"
    }
   ],
   "source": [
    "#Is there any null value in the dataset?\n",
    "df.isna().sum()"
   ]
  },
  {
   "cell_type": "markdown",
   "metadata": {
    "papermill": {
     "duration": 0.03103,
     "end_time": "2020-10-14T09:53:58.989795",
     "exception": false,
     "start_time": "2020-10-14T09:53:58.958765",
     "status": "completed"
    },
    "tags": []
   },
   "source": [
    "There is not any null value in the dataset."
   ]
  },
  {
   "cell_type": "code",
   "execution_count": 7,
   "metadata": {
    "execution": {
     "iopub.execute_input": "2020-10-14T09:53:59.057673Z",
     "iopub.status.busy": "2020-10-14T09:53:59.056657Z",
     "iopub.status.idle": "2020-10-14T09:53:59.060935Z",
     "shell.execute_reply": "2020-10-14T09:53:59.061474Z"
    },
    "papermill": {
     "duration": 0.04123,
     "end_time": "2020-10-14T09:53:59.061635",
     "exception": false,
     "start_time": "2020-10-14T09:53:59.020405",
     "status": "completed"
    },
    "tags": []
   },
   "outputs": [
    {
     "data": {
      "text/plain": [
       "Index(['status', 'duration', 'credit_history', 'purpose', 'amount', 'savings',\n",
       "       'employment_duration', 'installment_rate', 'personal_status_sex',\n",
       "       'other_debtors', 'present_residence', 'property', 'age',\n",
       "       'other_installment_plans', 'housing', 'number_credits', 'job',\n",
       "       'people_liable', 'telephone', 'foreign_worker', 'credit_risk'],\n",
       "      dtype='object')"
      ]
     },
     "execution_count": 7,
     "metadata": {},
     "output_type": "execute_result"
    }
   ],
   "source": [
    "#How many columns does this dataset have?\n",
    "df.columns"
   ]
  },
  {
   "cell_type": "code",
   "execution_count": 8,
   "metadata": {
    "execution": {
     "iopub.execute_input": "2020-10-14T09:53:59.144449Z",
     "iopub.status.busy": "2020-10-14T09:53:59.143478Z",
     "iopub.status.idle": "2020-10-14T09:53:59.147718Z",
     "shell.execute_reply": "2020-10-14T09:53:59.148510Z"
    },
    "papermill": {
     "duration": 0.055594,
     "end_time": "2020-10-14T09:53:59.148705",
     "exception": false,
     "start_time": "2020-10-14T09:53:59.093111",
     "status": "completed"
    },
    "tags": []
   },
   "outputs": [
    {
     "name": "stdout",
     "output_type": "stream",
     "text": [
      "<class 'pandas.core.frame.DataFrame'>\n",
      "RangeIndex: 1000 entries, 0 to 999\n",
      "Data columns (total 21 columns):\n",
      " #   Column                   Non-Null Count  Dtype\n",
      "---  ------                   --------------  -----\n",
      " 0   status                   1000 non-null   int64\n",
      " 1   duration                 1000 non-null   int64\n",
      " 2   credit_history           1000 non-null   int64\n",
      " 3   purpose                  1000 non-null   int64\n",
      " 4   amount                   1000 non-null   int64\n",
      " 5   savings                  1000 non-null   int64\n",
      " 6   employment_duration      1000 non-null   int64\n",
      " 7   installment_rate         1000 non-null   int64\n",
      " 8   personal_status_sex      1000 non-null   int64\n",
      " 9   other_debtors            1000 non-null   int64\n",
      " 10  present_residence        1000 non-null   int64\n",
      " 11  property                 1000 non-null   int64\n",
      " 12  age                      1000 non-null   int64\n",
      " 13  other_installment_plans  1000 non-null   int64\n",
      " 14  housing                  1000 non-null   int64\n",
      " 15  number_credits           1000 non-null   int64\n",
      " 16  job                      1000 non-null   int64\n",
      " 17  people_liable            1000 non-null   int64\n",
      " 18  telephone                1000 non-null   int64\n",
      " 19  foreign_worker           1000 non-null   int64\n",
      " 20  credit_risk              1000 non-null   int64\n",
      "dtypes: int64(21)\n",
      "memory usage: 164.2 KB\n"
     ]
    }
   ],
   "source": [
    "df.info()"
   ]
  },
  {
   "cell_type": "markdown",
   "metadata": {
    "papermill": {
     "duration": 0.032286,
     "end_time": "2020-10-14T09:53:59.214018",
     "exception": false,
     "start_time": "2020-10-14T09:53:59.181732",
     "status": "completed"
    },
    "tags": []
   },
   "source": [
    "Majority of this dataset consists of categorical values and I plan to use some classification models to predict the credit risk. Therefore, I will need to drop some of the variables that aren't categorical and then, I will convert them to numerical labels with **LabelEncoder()**: "
   ]
  },
  {
   "cell_type": "code",
   "execution_count": 9,
   "metadata": {
    "execution": {
     "iopub.execute_input": "2020-10-14T09:53:59.286268Z",
     "iopub.status.busy": "2020-10-14T09:53:59.285223Z",
     "iopub.status.idle": "2020-10-14T09:53:59.290132Z",
     "shell.execute_reply": "2020-10-14T09:53:59.289407Z"
    },
    "papermill": {
     "duration": 0.044443,
     "end_time": "2020-10-14T09:53:59.290252",
     "exception": false,
     "start_time": "2020-10-14T09:53:59.245809",
     "status": "completed"
    },
    "tags": []
   },
   "outputs": [
    {
     "name": "stderr",
     "output_type": "stream",
     "text": [
      "C:\\Users\\Admin'\\AppData\\Local\\Temp/ipykernel_18424/2337924716.py:1: FutureWarning: In a future version of pandas all arguments of DataFrame.drop except for the argument 'labels' will be keyword-only\n",
      "  dataset = df.drop([\"duration\",\"amount\",\"age\"],1)\n"
     ]
    },
    {
     "data": {
      "text/plain": [
       "Index(['status', 'credit_history', 'purpose', 'savings', 'employment_duration',\n",
       "       'installment_rate', 'personal_status_sex', 'other_debtors',\n",
       "       'present_residence', 'property', 'other_installment_plans', 'housing',\n",
       "       'number_credits', 'job', 'people_liable', 'telephone', 'foreign_worker',\n",
       "       'credit_risk'],\n",
       "      dtype='object')"
      ]
     },
     "execution_count": 9,
     "metadata": {},
     "output_type": "execute_result"
    }
   ],
   "source": [
    "dataset = df.drop([\"duration\",\"amount\",\"age\"],1)\n",
    "dataset.columns"
   ]
  },
  {
   "cell_type": "code",
   "execution_count": 10,
   "metadata": {
    "execution": {
     "iopub.execute_input": "2020-10-14T09:53:59.362435Z",
     "iopub.status.busy": "2020-10-14T09:53:59.361645Z",
     "iopub.status.idle": "2020-10-14T09:54:00.843260Z",
     "shell.execute_reply": "2020-10-14T09:54:00.842636Z"
    },
    "papermill": {
     "duration": 1.520479,
     "end_time": "2020-10-14T09:54:00.843433",
     "exception": false,
     "start_time": "2020-10-14T09:53:59.322954",
     "status": "completed"
    },
    "tags": []
   },
   "outputs": [
    {
     "data": {
      "text/html": [
       "<div>\n",
       "<style scoped>\n",
       "    .dataframe tbody tr th:only-of-type {\n",
       "        vertical-align: middle;\n",
       "    }\n",
       "\n",
       "    .dataframe tbody tr th {\n",
       "        vertical-align: top;\n",
       "    }\n",
       "\n",
       "    .dataframe thead th {\n",
       "        text-align: right;\n",
       "    }\n",
       "</style>\n",
       "<table border=\"1\" class=\"dataframe\">\n",
       "  <thead>\n",
       "    <tr style=\"text-align: right;\">\n",
       "      <th></th>\n",
       "      <th>status</th>\n",
       "      <th>credit_history</th>\n",
       "      <th>purpose</th>\n",
       "      <th>savings</th>\n",
       "      <th>employment_duration</th>\n",
       "      <th>installment_rate</th>\n",
       "      <th>personal_status_sex</th>\n",
       "      <th>other_debtors</th>\n",
       "      <th>present_residence</th>\n",
       "      <th>property</th>\n",
       "      <th>other_installment_plans</th>\n",
       "      <th>housing</th>\n",
       "      <th>number_credits</th>\n",
       "      <th>job</th>\n",
       "      <th>people_liable</th>\n",
       "      <th>telephone</th>\n",
       "      <th>foreign_worker</th>\n",
       "      <th>credit_risk</th>\n",
       "    </tr>\n",
       "  </thead>\n",
       "  <tbody>\n",
       "    <tr>\n",
       "      <th>0</th>\n",
       "      <td>0</td>\n",
       "      <td>4</td>\n",
       "      <td>2</td>\n",
       "      <td>0</td>\n",
       "      <td>1</td>\n",
       "      <td>3</td>\n",
       "      <td>1</td>\n",
       "      <td>0</td>\n",
       "      <td>3</td>\n",
       "      <td>1</td>\n",
       "      <td>2</td>\n",
       "      <td>0</td>\n",
       "      <td>0</td>\n",
       "      <td>2</td>\n",
       "      <td>1</td>\n",
       "      <td>0</td>\n",
       "      <td>1</td>\n",
       "      <td>1</td>\n",
       "    </tr>\n",
       "    <tr>\n",
       "      <th>1</th>\n",
       "      <td>0</td>\n",
       "      <td>4</td>\n",
       "      <td>0</td>\n",
       "      <td>0</td>\n",
       "      <td>2</td>\n",
       "      <td>1</td>\n",
       "      <td>2</td>\n",
       "      <td>0</td>\n",
       "      <td>1</td>\n",
       "      <td>0</td>\n",
       "      <td>2</td>\n",
       "      <td>0</td>\n",
       "      <td>1</td>\n",
       "      <td>2</td>\n",
       "      <td>0</td>\n",
       "      <td>0</td>\n",
       "      <td>1</td>\n",
       "      <td>1</td>\n",
       "    </tr>\n",
       "    <tr>\n",
       "      <th>2</th>\n",
       "      <td>1</td>\n",
       "      <td>2</td>\n",
       "      <td>8</td>\n",
       "      <td>1</td>\n",
       "      <td>3</td>\n",
       "      <td>1</td>\n",
       "      <td>1</td>\n",
       "      <td>0</td>\n",
       "      <td>3</td>\n",
       "      <td>0</td>\n",
       "      <td>2</td>\n",
       "      <td>0</td>\n",
       "      <td>0</td>\n",
       "      <td>1</td>\n",
       "      <td>1</td>\n",
       "      <td>0</td>\n",
       "      <td>1</td>\n",
       "      <td>1</td>\n",
       "    </tr>\n",
       "    <tr>\n",
       "      <th>3</th>\n",
       "      <td>0</td>\n",
       "      <td>4</td>\n",
       "      <td>0</td>\n",
       "      <td>0</td>\n",
       "      <td>2</td>\n",
       "      <td>2</td>\n",
       "      <td>2</td>\n",
       "      <td>0</td>\n",
       "      <td>1</td>\n",
       "      <td>0</td>\n",
       "      <td>2</td>\n",
       "      <td>0</td>\n",
       "      <td>1</td>\n",
       "      <td>1</td>\n",
       "      <td>0</td>\n",
       "      <td>0</td>\n",
       "      <td>0</td>\n",
       "      <td>1</td>\n",
       "    </tr>\n",
       "    <tr>\n",
       "      <th>4</th>\n",
       "      <td>0</td>\n",
       "      <td>4</td>\n",
       "      <td>0</td>\n",
       "      <td>0</td>\n",
       "      <td>2</td>\n",
       "      <td>3</td>\n",
       "      <td>2</td>\n",
       "      <td>0</td>\n",
       "      <td>3</td>\n",
       "      <td>1</td>\n",
       "      <td>0</td>\n",
       "      <td>1</td>\n",
       "      <td>1</td>\n",
       "      <td>1</td>\n",
       "      <td>1</td>\n",
       "      <td>0</td>\n",
       "      <td>0</td>\n",
       "      <td>1</td>\n",
       "    </tr>\n",
       "  </tbody>\n",
       "</table>\n",
       "</div>"
      ],
      "text/plain": [
       "   status  credit_history  purpose  savings  employment_duration  \\\n",
       "0       0               4        2        0                    1   \n",
       "1       0               4        0        0                    2   \n",
       "2       1               2        8        1                    3   \n",
       "3       0               4        0        0                    2   \n",
       "4       0               4        0        0                    2   \n",
       "\n",
       "   installment_rate  personal_status_sex  other_debtors  present_residence  \\\n",
       "0                 3                    1              0                  3   \n",
       "1                 1                    2              0                  1   \n",
       "2                 1                    1              0                  3   \n",
       "3                 2                    2              0                  1   \n",
       "4                 3                    2              0                  3   \n",
       "\n",
       "   property  other_installment_plans  housing  number_credits  job  \\\n",
       "0         1                        2        0               0    2   \n",
       "1         0                        2        0               1    2   \n",
       "2         0                        2        0               0    1   \n",
       "3         0                        2        0               1    1   \n",
       "4         1                        0        1               1    1   \n",
       "\n",
       "   people_liable  telephone  foreign_worker  credit_risk  \n",
       "0              1          0               1            1  \n",
       "1              0          0               1            1  \n",
       "2              1          0               1            1  \n",
       "3              0          0               0            1  \n",
       "4              1          0               0            1  "
      ]
     },
     "execution_count": 10,
     "metadata": {},
     "output_type": "execute_result"
    }
   ],
   "source": [
    "from sklearn.preprocessing import LabelEncoder\n",
    "\n",
    "for x in dataset.columns:\n",
    "    dataset[x] = LabelEncoder().fit_transform(dataset[x])\n",
    "\n",
    "dataset.head()"
   ]
  },
  {
   "cell_type": "markdown",
   "metadata": {
    "papermill": {
     "duration": 0.04079,
     "end_time": "2020-10-14T09:54:00.928082",
     "exception": false,
     "start_time": "2020-10-14T09:54:00.887292",
     "status": "completed"
    },
    "tags": []
   },
   "source": [
    "## Classification "
   ]
  },
  {
   "cell_type": "markdown",
   "metadata": {
    "papermill": {
     "duration": 0.033844,
     "end_time": "2020-10-14T09:54:00.996040",
     "exception": false,
     "start_time": "2020-10-14T09:54:00.962196",
     "status": "completed"
    },
    "tags": []
   },
   "source": [
    "### Feature Selection"
   ]
  },
  {
   "cell_type": "code",
   "execution_count": 11,
   "metadata": {
    "execution": {
     "iopub.execute_input": "2020-10-14T09:54:01.074593Z",
     "iopub.status.busy": "2020-10-14T09:54:01.073781Z",
     "iopub.status.idle": "2020-10-14T09:54:01.080718Z",
     "shell.execute_reply": "2020-10-14T09:54:01.079920Z"
    },
    "papermill": {
     "duration": 0.050161,
     "end_time": "2020-10-14T09:54:01.080844",
     "exception": false,
     "start_time": "2020-10-14T09:54:01.030683",
     "status": "completed"
    },
    "tags": []
   },
   "outputs": [],
   "source": [
    "feature_x = dataset[['status', 'credit_history', 'purpose', 'savings',\n",
    "       'employment_duration', 'installment_rate', 'personal_status_sex',\n",
    "       'other_debtors', 'present_residence', 'property',\n",
    "       'other_installment_plans', 'housing', 'number_credits', 'job', 'people_liable',\n",
    "       'telephone', 'foreign_worker']]\n",
    "feature_y = dataset[[\"credit_risk\"]]"
   ]
  },
  {
   "cell_type": "code",
   "execution_count": 12,
   "metadata": {
    "execution": {
     "iopub.execute_input": "2020-10-14T09:54:01.161030Z",
     "iopub.status.busy": "2020-10-14T09:54:01.159929Z",
     "iopub.status.idle": "2020-10-14T09:54:01.553859Z",
     "shell.execute_reply": "2020-10-14T09:54:01.552866Z"
    },
    "papermill": {
     "duration": 0.4388,
     "end_time": "2020-10-14T09:54:01.553991",
     "exception": false,
     "start_time": "2020-10-14T09:54:01.115191",
     "status": "completed"
    },
    "tags": []
   },
   "outputs": [],
   "source": [
    "from sklearn.feature_selection import SelectKBest\n",
    "from sklearn.feature_selection import f_classif\n",
    "\n",
    "def best_features(X_train,y_train,X_test):\n",
    "    fs = SelectKBest(score_func = f_classif, k=\"all\")\n",
    "    fs.fit(X_train,y_train)\n",
    "    X_train_fs = fs.transform(X_train)\n",
    "    X_test_fs = fs.transform(X_test)\n",
    "    return X_train_fs,X_test_fs,fs"
   ]
  },
  {
   "cell_type": "code",
   "execution_count": 13,
   "metadata": {
    "execution": {
     "iopub.execute_input": "2020-10-14T09:54:01.636098Z",
     "iopub.status.busy": "2020-10-14T09:54:01.635283Z",
     "iopub.status.idle": "2020-10-14T09:54:01.645882Z",
     "shell.execute_reply": "2020-10-14T09:54:01.644879Z"
    },
    "papermill": {
     "duration": 0.05806,
     "end_time": "2020-10-14T09:54:01.646049",
     "exception": false,
     "start_time": "2020-10-14T09:54:01.587989",
     "status": "completed"
    },
    "tags": []
   },
   "outputs": [],
   "source": [
    "from sklearn.model_selection import train_test_split\n",
    "X_train,X_test,y_train,y_test = train_test_split(feature_x,feature_y,test_size=0.33,random_state=21)\n",
    "X_train_fs,X_test_fs,fs = best_features(X_train,np.ravel(y_train),X_test)"
   ]
  },
  {
   "cell_type": "code",
   "execution_count": 14,
   "metadata": {
    "execution": {
     "iopub.execute_input": "2020-10-14T09:54:01.735367Z",
     "iopub.status.busy": "2020-10-14T09:54:01.734395Z",
     "iopub.status.idle": "2020-10-14T09:54:02.035905Z",
     "shell.execute_reply": "2020-10-14T09:54:02.035223Z"
    },
    "papermill": {
     "duration": 0.345009,
     "end_time": "2020-10-14T09:54:02.036031",
     "exception": false,
     "start_time": "2020-10-14T09:54:01.691022",
     "status": "completed"
    },
    "tags": []
   },
   "outputs": [
    {
     "name": "stdout",
     "output_type": "stream",
     "text": [
      "Feature 0: 84.413693\n",
      "Feature 1: 24.884976\n",
      "Feature 2: 1.748188\n",
      "Feature 3: 21.715607\n",
      "Feature 4: 5.995601\n",
      "Feature 5: 6.462464\n",
      "Feature 6: 2.977890\n",
      "Feature 7: 0.452474\n",
      "Feature 8: 0.045133\n",
      "Feature 9: 17.965984\n",
      "Feature 10: 11.647857\n",
      "Feature 11: 0.023710\n",
      "Feature 12: 0.300599\n",
      "Feature 13: 4.512898\n",
      "Feature 14: 0.160326\n",
      "Feature 15: 0.743523\n",
      "Feature 16: 2.837622\n"
     ]
    },
    {
     "data": {
      "image/png": "[encoded data removed]",
      "text/plain": [
       "<Figure size 432x288 with 1 Axes>"
      ]
     },
     "metadata": {
      "needs_background": "light"
     },
     "output_type": "display_data"
    }
   ],
   "source": [
    "# what are scores for the features\n",
    "for i in range(len(fs.scores_)):\n",
    "\tprint('Feature %d: %f' % (i, fs.scores_[i]))\n",
    "# plot the scores\n",
    "plt.bar([i for i in range(len(fs.scores_))], fs.scores_)\n",
    "plt.show()"
   ]
  },
  {
   "cell_type": "markdown",
   "metadata": {
    "papermill": {
     "duration": 0.035679,
     "end_time": "2020-10-14T09:54:02.108543",
     "exception": false,
     "start_time": "2020-10-14T09:54:02.072864",
     "status": "completed"
    },
    "tags": []
   },
   "source": [
    "### Classification - Logistic Regression"
   ]
  },
  {
   "cell_type": "code",
   "execution_count": 15,
   "metadata": {
    "execution": {
     "iopub.execute_input": "2020-10-14T09:54:02.190369Z",
     "iopub.status.busy": "2020-10-14T09:54:02.189541Z",
     "iopub.status.idle": "2020-10-14T09:54:02.193508Z",
     "shell.execute_reply": "2020-10-14T09:54:02.192864Z"
    },
    "papermill": {
     "duration": 0.049923,
     "end_time": "2020-10-14T09:54:02.193632",
     "exception": false,
     "start_time": "2020-10-14T09:54:02.143709",
     "status": "completed"
    },
    "tags": []
   },
   "outputs": [],
   "source": [
    "train_x = dataset[['status', 'credit_history', 'purpose', 'savings','personal_status_sex',\n",
    "              'property','other_installment_plans', 'housing','job','foreign_worker']]\n",
    "train_y = dataset[[\"credit_risk\"]]"
   ]
  },
  {
   "cell_type": "code",
   "execution_count": 16,
   "metadata": {
    "execution": {
     "iopub.execute_input": "2020-10-14T09:54:02.273387Z",
     "iopub.status.busy": "2020-10-14T09:54:02.269806Z",
     "iopub.status.idle": "2020-10-14T09:54:02.278228Z",
     "shell.execute_reply": "2020-10-14T09:54:02.277267Z"
    },
    "papermill": {
     "duration": 0.047463,
     "end_time": "2020-10-14T09:54:02.278384",
     "exception": false,
     "start_time": "2020-10-14T09:54:02.230921",
     "status": "completed"
    },
    "tags": []
   },
   "outputs": [],
   "source": [
    "X_train_lr,X_test_lr,y_train_lr,y_test_lr = train_test_split(train_x,train_y,test_size=0.33,random_state=21)"
   ]
  },
  {
   "cell_type": "code",
   "execution_count": 17,
   "metadata": {
    "execution": {
     "iopub.execute_input": "2020-10-14T09:54:02.373600Z",
     "iopub.status.busy": "2020-10-14T09:54:02.372741Z",
     "iopub.status.idle": "2020-10-14T09:54:02.388411Z",
     "shell.execute_reply": "2020-10-14T09:54:02.387517Z"
    },
    "papermill": {
     "duration": 0.062525,
     "end_time": "2020-10-14T09:54:02.388568",
     "exception": false,
     "start_time": "2020-10-14T09:54:02.326043",
     "status": "completed"
    },
    "tags": []
   },
   "outputs": [
    {
     "data": {
      "text/plain": [
       "LogisticRegression(solver='liblinear')"
      ]
     },
     "execution_count": 17,
     "metadata": {},
     "output_type": "execute_result"
    }
   ],
   "source": [
    "from sklearn.linear_model import LogisticRegression\n",
    "\n",
    "lr = LogisticRegression(solver='liblinear')\n",
    "fit = lr.fit(X_train_lr,np.ravel(y_train_lr))\n",
    "fit"
   ]
  },
  {
   "cell_type": "code",
   "execution_count": 18,
   "metadata": {
    "execution": {
     "iopub.execute_input": "2020-10-14T09:54:02.472045Z",
     "iopub.status.busy": "2020-10-14T09:54:02.471041Z",
     "iopub.status.idle": "2020-10-14T09:54:02.477755Z",
     "shell.execute_reply": "2020-10-14T09:54:02.478554Z"
    },
    "papermill": {
     "duration": 0.052449,
     "end_time": "2020-10-14T09:54:02.478745",
     "exception": false,
     "start_time": "2020-10-14T09:54:02.426296",
     "status": "completed"
    },
    "tags": []
   },
   "outputs": [
    {
     "name": "stdout",
     "output_type": "stream",
     "text": [
      "[[ 35  69]\n",
      " [ 16 210]]\n"
     ]
    }
   ],
   "source": [
    "yhat = fit.predict(X_test_lr)\n",
    "from sklearn.metrics import confusion_matrix\n",
    "confusion_matrix = confusion_matrix(y_test_lr, yhat)\n",
    "print(confusion_matrix)"
   ]
  },
  {
   "cell_type": "code",
   "execution_count": 19,
   "metadata": {
    "execution": {
     "iopub.execute_input": "2020-10-14T09:54:02.567071Z",
     "iopub.status.busy": "2020-10-14T09:54:02.566088Z",
     "iopub.status.idle": "2020-10-14T09:54:02.578329Z",
     "shell.execute_reply": "2020-10-14T09:54:02.577205Z"
    },
    "papermill": {
     "duration": 0.056018,
     "end_time": "2020-10-14T09:54:02.578516",
     "exception": false,
     "start_time": "2020-10-14T09:54:02.522498",
     "status": "completed"
    },
    "tags": []
   },
   "outputs": [
    {
     "name": "stdout",
     "output_type": "stream",
     "text": [
      "              precision    recall  f1-score   support\n",
      "\n",
      "           0       0.69      0.34      0.45       104\n",
      "           1       0.75      0.93      0.83       226\n",
      "\n",
      "    accuracy                           0.74       330\n",
      "   macro avg       0.72      0.63      0.64       330\n",
      "weighted avg       0.73      0.74      0.71       330\n",
      "\n"
     ]
    }
   ],
   "source": [
    "from sklearn.metrics import classification_report\n",
    "print(classification_report(y_test_lr, yhat))"
   ]
  },
  {
   "cell_type": "markdown",
   "metadata": {
    "papermill": {
     "duration": 0.036917,
     "end_time": "2020-10-14T09:54:02.653794",
     "exception": false,
     "start_time": "2020-10-14T09:54:02.616877",
     "status": "completed"
    },
    "tags": []
   },
   "source": [
    "As we mentioned earlier, due to that the dataset is imbalanced, our prediction model may not perform well. In order to solve this, we will oversample our data with SMOTE method"
   ]
  },
  {
   "cell_type": "markdown",
   "metadata": {
    "papermill": {
     "duration": 0.03715,
     "end_time": "2020-10-14T09:54:02.728434",
     "exception": false,
     "start_time": "2020-10-14T09:54:02.691284",
     "status": "completed"
    },
    "tags": []
   },
   "source": [
    "### Logistic Regression with SMOTE"
   ]
  },
  {
   "cell_type": "code",
   "execution_count": 26,
   "metadata": {
    "execution": {
     "iopub.execute_input": "2020-10-14T09:54:02.810073Z",
     "iopub.status.busy": "2020-10-14T09:54:02.809032Z",
     "iopub.status.idle": "2020-10-14T09:54:03.101844Z",
     "shell.execute_reply": "2020-10-14T09:54:03.100787Z"
    },
    "papermill": {
     "duration": 0.336339,
     "end_time": "2020-10-14T09:54:03.102006",
     "exception": false,
     "start_time": "2020-10-14T09:54:02.765667",
     "status": "completed"
    },
    "tags": []
   },
   "outputs": [],
   "source": [
    "from imblearn.over_sampling import SMOTE\n",
    "smote = SMOTE()"
   ]
  },
  {
   "cell_type": "code",
   "execution_count": 29,
   "metadata": {
    "execution": {
     "iopub.execute_input": "2020-10-14T09:54:03.193567Z",
     "iopub.status.busy": "2020-10-14T09:54:03.192727Z",
     "iopub.status.idle": "2020-10-14T09:54:03.208178Z",
     "shell.execute_reply": "2020-10-14T09:54:03.207433Z"
    },
    "papermill": {
     "duration": 0.061908,
     "end_time": "2020-10-14T09:54:03.208303",
     "exception": false,
     "start_time": "2020-10-14T09:54:03.146395",
     "status": "completed"
    },
    "tags": []
   },
   "outputs": [
    {
     "ename": "AttributeError",
     "evalue": "'SMOTE' object has no attribute 'fit_sample'",
     "output_type": "error",
     "traceback": [
      "\u001b[1;31m---------------------------------------------------------------------------\u001b[0m",
      "\u001b[1;31mAttributeError\u001b[0m                            Traceback (most recent call last)",
      "\u001b[1;32m~\\AppData\\Local\\Temp/ipykernel_18424/2869498639.py\u001b[0m in \u001b[0;36m<module>\u001b[1;34m\u001b[0m\n\u001b[1;32m----> 1\u001b[1;33m \u001b[0mX_train_smote\u001b[0m\u001b[1;33m,\u001b[0m\u001b[0my_train_smote\u001b[0m \u001b[1;33m=\u001b[0m \u001b[0msmote\u001b[0m\u001b[1;33m.\u001b[0m\u001b[0mfit_sample\u001b[0m\u001b[1;33m(\u001b[0m\u001b[0mtrain_x\u001b[0m\u001b[1;33m,\u001b[0m\u001b[0mtrain_y\u001b[0m\u001b[1;33m)\u001b[0m\u001b[1;33m\u001b[0m\u001b[1;33m\u001b[0m\u001b[0m\n\u001b[0m",
      "\u001b[1;31mAttributeError\u001b[0m: 'SMOTE' object has no attribute 'fit_sample'"
     ]
    }
   ],
   "source": [
    "X_train_smote,y_train_smote = smote.fit_sample(train_x,train_y)"
   ]
  },
  {
   "cell_type": "code",
   "execution_count": 22,
   "metadata": {
    "execution": {
     "iopub.execute_input": "2020-10-14T09:54:03.293889Z",
     "iopub.status.busy": "2020-10-14T09:54:03.292896Z",
     "iopub.status.idle": "2020-10-14T09:54:03.296455Z",
     "shell.execute_reply": "2020-10-14T09:54:03.297294Z"
    },
    "papermill": {
     "duration": 0.049981,
     "end_time": "2020-10-14T09:54:03.297502",
     "exception": false,
     "start_time": "2020-10-14T09:54:03.247521",
     "status": "completed"
    },
    "tags": []
   },
   "outputs": [
    {
     "name": "stdout",
     "output_type": "stream",
     "text": [
      "Before SMOTE:  1    700\n",
      "0    300\n",
      "Name: credit_risk, dtype: int64\n"
     ]
    }
   ],
   "source": [
    "print(\"Before SMOTE: \", train_y[\"credit_risk\"].value_counts())"
   ]
  },
  {
   "cell_type": "code",
   "execution_count": 23,
   "metadata": {
    "execution": {
     "iopub.execute_input": "2020-10-14T09:54:03.392459Z",
     "iopub.status.busy": "2020-10-14T09:54:03.391478Z",
     "iopub.status.idle": "2020-10-14T09:54:03.395981Z",
     "shell.execute_reply": "2020-10-14T09:54:03.395032Z"
    },
    "papermill": {
     "duration": 0.050825,
     "end_time": "2020-10-14T09:54:03.396160",
     "exception": false,
     "start_time": "2020-10-14T09:54:03.345335",
     "status": "completed"
    },
    "tags": []
   },
   "outputs": [
    {
     "name": "stdout",
     "output_type": "stream",
     "text": [
      "After SMOTE:  1    700\n",
      "0    700\n",
      "Name: credit_risk, dtype: int64\n"
     ]
    }
   ],
   "source": [
    "print(\"After SMOTE: \", y_train_smote[\"credit_risk\"].value_counts())"
   ]
  },
  {
   "cell_type": "code",
   "execution_count": 24,
   "metadata": {
    "execution": {
     "iopub.execute_input": "2020-10-14T09:54:03.497407Z",
     "iopub.status.busy": "2020-10-14T09:54:03.496599Z",
     "iopub.status.idle": "2020-10-14T09:54:03.521205Z",
     "shell.execute_reply": "2020-10-14T09:54:03.522204Z"
    },
    "papermill": {
     "duration": 0.074234,
     "end_time": "2020-10-14T09:54:03.522377",
     "exception": false,
     "start_time": "2020-10-14T09:54:03.448143",
     "status": "completed"
    },
    "tags": []
   },
   "outputs": [
    {
     "name": "stdout",
     "output_type": "stream",
     "text": [
      "              precision    recall  f1-score   support\n",
      "\n",
      "           0       0.45      0.57      0.50       104\n",
      "           1       0.78      0.69      0.73       226\n",
      "\n",
      "    accuracy                           0.65       330\n",
      "   macro avg       0.61      0.63      0.62       330\n",
      "weighted avg       0.67      0.65      0.66       330\n",
      "\n"
     ]
    }
   ],
   "source": [
    "lr.fit(X_train_smote,np.ravel(y_train_smote))\n",
    "y_pred2 = lr.predict(X_test_lr)\n",
    "print(classification_report(y_test_lr, y_pred2))"
   ]
  },
  {
   "cell_type": "markdown",
   "metadata": {
    "papermill": {
     "duration": 0.040239,
     "end_time": "2020-10-14T09:54:03.603162",
     "exception": false,
     "start_time": "2020-10-14T09:54:03.562923",
     "status": "completed"
    },
    "tags": []
   },
   "source": [
    "Although I applied SMOTE() and reapplied the train sets, the regression model didn't perform well enough. Therefore, I will try another classification model"
   ]
  },
  {
   "cell_type": "markdown",
   "metadata": {
    "papermill": {
     "duration": 0.039259,
     "end_time": "2020-10-14T09:54:03.683033",
     "exception": false,
     "start_time": "2020-10-14T09:54:03.643774",
     "status": "completed"
    },
    "tags": []
   },
   "source": [
    "### Support Vector Machine"
   ]
  },
  {
   "cell_type": "code",
   "execution_count": 25,
   "metadata": {
    "execution": {
     "iopub.execute_input": "2020-10-14T09:54:03.773617Z",
     "iopub.status.busy": "2020-10-14T09:54:03.772797Z",
     "iopub.status.idle": "2020-10-14T09:54:05.551695Z",
     "shell.execute_reply": "2020-10-14T09:54:05.552318Z"
    },
    "papermill": {
     "duration": 1.829618,
     "end_time": "2020-10-14T09:54:05.552478",
     "exception": false,
     "start_time": "2020-10-14T09:54:03.722860",
     "status": "completed"
    },
    "tags": []
   },
   "outputs": [
    {
     "data": {
      "text/plain": [
       "SVC(degree=10, kernel='poly')"
      ]
     },
     "execution_count": 25,
     "metadata": {},
     "output_type": "execute_result"
    }
   ],
   "source": [
    "from sklearn.svm import SVC\n",
    "svclassifier = SVC(kernel=\"poly\",degree=10)\n",
    "svclassifier.fit(X_train_smote,np.ravel(y_train_smote))"
   ]
  },
  {
   "cell_type": "code",
   "execution_count": 26,
   "metadata": {
    "execution": {
     "iopub.execute_input": "2020-10-14T09:54:05.642036Z",
     "iopub.status.busy": "2020-10-14T09:54:05.641097Z",
     "iopub.status.idle": "2020-10-14T09:54:05.655819Z",
     "shell.execute_reply": "2020-10-14T09:54:05.654750Z"
    },
    "papermill": {
     "duration": 0.062359,
     "end_time": "2020-10-14T09:54:05.655991",
     "exception": false,
     "start_time": "2020-10-14T09:54:05.593632",
     "status": "completed"
    },
    "tags": []
   },
   "outputs": [
    {
     "name": "stdout",
     "output_type": "stream",
     "text": [
      "              precision    recall  f1-score   support\n",
      "\n",
      "           0       0.92      0.98      0.95       104\n",
      "           1       0.99      0.96      0.98       226\n",
      "\n",
      "    accuracy                           0.97       330\n",
      "   macro avg       0.95      0.97      0.96       330\n",
      "weighted avg       0.97      0.97      0.97       330\n",
      "\n"
     ]
    }
   ],
   "source": [
    "yhat_svm = svclassifier.predict(X_test_lr)\n",
    "print(classification_report(y_test_lr, yhat_svm))"
   ]
  },
  {
   "cell_type": "code",
   "execution_count": null,
   "metadata": {
    "papermill": {
     "duration": 0.040646,
     "end_time": "2020-10-14T09:54:05.738156",
     "exception": false,
     "start_time": "2020-10-14T09:54:05.697510",
     "status": "completed"
    },
    "tags": []
   },
   "outputs": [],
   "source": []
  }
 ],
 "metadata": {
  "kernelspec": {
   "display_name": "Python 3 (ipykernel)",
   "language": "python",
   "name": "python3"
  },
  "language_info": {
   "codemirror_mode": {
    "name": "ipython",
    "version": 3
   },
   "file_extension": ".py",
   "mimetype": "text/x-python",
   "name": "python",
   "nbconvert_exporter": "python",
   "pygments_lexer": "ipython3",
   "version": "3.9.6"
  },
  "papermill": {
   "duration": 12.717986,
   "end_time": "2020-10-14T09:54:05.891419",
   "environment_variables": {},
   "exception": null,
   "input_path": "__notebook__.ipynb",
   "output_path": "__notebook__.ipynb",
   "parameters": {},
   "start_time": "2020-10-14T09:53:53.173433",
   "version": "2.1.0"
  }
 },
 "nbformat": 4,
 "nbformat_minor": 4
}
